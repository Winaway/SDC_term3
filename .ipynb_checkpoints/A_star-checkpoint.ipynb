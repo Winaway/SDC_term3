{
 "cells": [
  {
   "cell_type": "code",
   "execution_count": 14,
   "metadata": {},
   "outputs": [],
   "source": [
    "grid = [[0, 0, 1, 0, 0, 0],\n",
    "        [0, 0, 0, 0, 0, 0],\n",
    "        [0, 0, 1, 0, 1, 0],\n",
    "        [0, 0, 1, 0, 1, 0],\n",
    "        [0, 0, 1, 0, 1, 0]]\n",
    "init = [0, 0]\n",
    "goal = [len(grid)-1, len(grid[0])-1]\n",
    "cost = 1\n",
    "\n",
    "delta = [[-1, 0], # go up\n",
    "         [ 0,-1], # go left\n",
    "         [ 1, 0], # go down\n",
    "         [ 0, 1]] # go right\n",
    "\n",
    "delta_name = ['^', '<', 'v', '>']\n",
    "\n",
    "def search(grid,init,goal,cost):\n",
    "    # ----------------------------------------\n",
    "    # modify code below\n",
    "    # ----------------------------------------\n",
    "    expand = [[-1 for row in range(len(grid[0]))] for col in range(len(grid))]\n",
    "    closed = [[0 for row in range(len(grid[0]))] for col in range(len(grid))]\n",
    "    print len(grid[0])\n",
    "    print len(grid[1])\n",
    "    closed[0][0]=1\n",
    "    \n",
    "    x = init[0]\n",
    "    y = init[1]\n",
    "    g = 0\n",
    "\n",
    "    exp =0\n",
    "    Open = [[g,x,y]]\n",
    "    \n",
    "    #flag\n",
    "    Found = False\n",
    "    resign = False\n",
    "    \n",
    "    while Found is False and resign is False:\n",
    "        if len(Open)==0:\n",
    "            resign = True\n",
    "            print 'fail'\n",
    "        else:\n",
    "            Open.sort()\n",
    "            Open.reverse()\n",
    "            Next = Open.pop()\n",
    "            \n",
    "            g = Next[0]\n",
    "            x = Next[1]\n",
    "            y = Next[2]\n",
    "            expand[x][y]=exp\n",
    "            exp+=1\n",
    "            if x==goal[0] and y==goal[1]:\n",
    "                Found = True\n",
    "                print \"The goal is found!\"\n",
    "            else:\n",
    "                for i in range(len(delta)):\n",
    "                    x2 = x+delta[i][0]\n",
    "                    y2 = y+delta[i][1]\n",
    "                    if x2>=0 and x2<len(grid) and y2>=0 and y2<len(grid[1]):\n",
    "                        if closed[x2][y2]==0 and grid[x2][y2]==0:\n",
    "                            g2 = g+cost\n",
    "                            closed[x2][y2]=1\n",
    "                            Open.append([g2,x2,y2])\n",
    "                     \n",
    "    return expand"
   ]
  },
  {
   "cell_type": "code",
   "execution_count": 15,
   "metadata": {},
   "outputs": [
    {
     "name": "stdout",
     "output_type": "stream",
     "text": [
      "6\n",
      "6\n",
      "The goal is found!\n",
      "5\n"
     ]
    }
   ],
   "source": [
    "expand = search(grid,init,goal,cost)\n",
    "print len(expand)"
   ]
  },
  {
   "cell_type": "code",
   "execution_count": 16,
   "metadata": {},
   "outputs": [
    {
     "name": "stdout",
     "output_type": "stream",
     "text": [
      "[0, 1, -1, 11, 15, 18]\n",
      "[2, 3, 5, 8, 12, 16]\n",
      "[4, 6, -1, 13, -1, 19]\n",
      "[7, 9, -1, 17, -1, 21]\n",
      "[10, 14, -1, 20, -1, 22]\n"
     ]
    }
   ],
   "source": [
    "for i in range(len(expand)):\n",
    "   print expand[i]"
   ]
  },
  {
   "cell_type": "code",
   "execution_count": null,
   "metadata": {
    "collapsed": true
   },
   "outputs": [],
   "source": []
  }
 ],
 "metadata": {
  "kernelspec": {
   "display_name": "Python 2",
   "language": "python",
   "name": "python2"
  },
  "language_info": {
   "codemirror_mode": {
    "name": "ipython",
    "version": 2
   },
   "file_extension": ".py",
   "mimetype": "text/x-python",
   "name": "python",
   "nbconvert_exporter": "python",
   "pygments_lexer": "ipython2",
   "version": "2.7.13"
  }
 },
 "nbformat": 4,
 "nbformat_minor": 2
}
