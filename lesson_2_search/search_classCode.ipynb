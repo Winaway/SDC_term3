{
 "cells": [
  {
   "cell_type": "code",
   "execution_count": 1,
   "metadata": {
    "collapsed": true
   },
   "outputs": [],
   "source": [
    "def optimum_policy2D(grid,init,goal,cost):\n",
    "    value = [[[999 for row in range(len(grid[0]))] for col in range(len(grid))],\n",
    "             [[999 for row in range(len(grid[0]))] for col in range(len(grid))],\n",
    "             [[999 for row in range(len(grid[0]))] for col in range(len(grid))],\n",
    "             [[999 for row in range(len(grid[0]))] for col in range(len(grid))]]\n",
    "\n",
    "    policy = [[[' ' for row in range(len(grid[0]))] for col in range(len(grid))],\n",
    "             [[' ' for row in range(len(grid[0]))] for col in range(len(grid))],\n",
    "             [[' ' for row in range(len(grid[0]))] for col in range(len(grid))],\n",
    "             [[' ' for row in range(len(grid[0]))] for col in range(len(grid))]]\n",
    "\n",
    "    policy2D = [[' ' for row in range(len(grid[0]))] for col in range(len(grid))]\n",
    "\n",
    "    change = True\n",
    "    while change:\n",
    "        change = False\n",
    "        #go through all grid cells and calculate values\n",
    "        for x in range(len(grid)):\n",
    "            for y in range(len(grid[0])):\n",
    "                for orientation in range(4):\n",
    "                    if goal[0]==x and goal[1]==y:\n",
    "                        if value[orientation][x][y]>0:\n",
    "                            change = True\n",
    "                            value[orientation][x][y] = 0\n",
    "                            policy[orientation][x][y] = '*'\n",
    "                    elif grid[x][y]==0:\n",
    "                        for i in range(len(action)):\n",
    "                            o2 = (orientation+action[i])%4\n",
    "                            x2 = x+forward[o2][0]\n",
    "                            y2 = y+forward[o2][1]\n",
    "\n",
    "                            if x2>=0 and x2< len(grid) and y2>=0 and y2<len(grid[0]) and grid[x2][y2]==0:\n",
    "                                v2 = value[o2][x2][y2]+cost[i]\n",
    "                                if v2 < value[orientation][x][y]:\n",
    "                                    value[orientation][x][y] = v2\n",
    "                                    change = True\n",
    "                                    policy[orientation][x][y] = action_name[i]\n",
    "\n",
    "    x = init[0]\n",
    "    y = init[1]\n",
    "    orientation=init[2]\n",
    "\n",
    "    policy2D[x][y] = policy[orientation][x][y]\n",
    "    while policy[orientation][x][y] != '*':\n",
    "        if policy[orientation][x][y]=='#':\n",
    "            o2 = orientation\n",
    "        elif policy[orientation][x][y]=='R':\n",
    "            o2 = (orientation-1)%4\n",
    "        elif policy[orientation][x][y]=='L':\n",
    "            o2 = (orientation+1)%4\n",
    "        x = x+forward[o2][0]\n",
    "        y = y+forward[o2][1]\n",
    "        orientation = o2\n",
    "\n",
    "        policy2D[x][y] = policy[orientation][x][y]\n",
    "    \n",
    "    return policy2D"
   ]
  },
  {
   "cell_type": "code",
   "execution_count": 2,
   "metadata": {
    "collapsed": true
   },
   "outputs": [],
   "source": [
    "forward = [[-1,  0], # go up\n",
    "           [ 0, -1], # go left\n",
    "           [ 1,  0], # go down\n",
    "           [ 0,  1]] # go right\n",
    "forward_name = ['up', 'left', 'down', 'right']\n",
    "\n",
    "# action has 3 values: right turn, no turn, left turn\n",
    "action = [-1, 0, 1]\n",
    "action_name = ['R', '#', 'L']\n",
    "\n",
    "# EXAMPLE INPUTS:\n",
    "# grid format:\n",
    "#     0 = navigable space\n",
    "#     1 = unnavigable space \n",
    "grid = [[1, 1, 1, 0, 0, 0],\n",
    "        [1, 1, 1, 0, 1, 0],\n",
    "        [0, 0, 0, 0, 0, 0],\n",
    "        [1, 1, 1, 0, 1, 1],\n",
    "        [1, 1, 1, 0, 1, 1]]\n",
    "\n",
    "init = [4, 3, 0] # given in the form [row,col,direction]\n",
    "                 # direction = 0: up\n",
    "                 #             1: left\n",
    "                 #             2: down\n",
    "                 #             3: right\n",
    "                \n",
    "goal = [2, 0] # given in the form [row,col]\n",
    "\n",
    "cost = [2, 1, 20]\n",
    "\n",
    "policy = optimum_policy2D(grid,init,goal,cost)"
   ]
  },
  {
   "cell_type": "code",
   "execution_count": 3,
   "metadata": {},
   "outputs": [
    {
     "name": "stdout",
     "output_type": "stream",
     "text": [
      "[' ', ' ', ' ', 'R', '#', 'R']\n",
      "[' ', ' ', ' ', '#', ' ', '#']\n",
      "['*', '#', '#', '#', '#', 'R']\n",
      "[' ', ' ', ' ', '#', ' ', ' ']\n",
      "[' ', ' ', ' ', '#', ' ', ' ']\n"
     ]
    }
   ],
   "source": [
    "for i in range(len(policy)):\n",
    "    print policy[i]"
   ]
  },
  {
   "cell_type": "code",
   "execution_count": null,
   "metadata": {
    "collapsed": true
   },
   "outputs": [],
   "source": []
  }
 ],
 "metadata": {
  "kernelspec": {
   "display_name": "Python 2",
   "language": "python",
   "name": "python2"
  },
  "language_info": {
   "codemirror_mode": {
    "name": "ipython",
    "version": 2
   },
   "file_extension": ".py",
   "mimetype": "text/x-python",
   "name": "python",
   "nbconvert_exporter": "python",
   "pygments_lexer": "ipython2",
   "version": "2.7.13"
  }
 },
 "nbformat": 4,
 "nbformat_minor": 2
}
